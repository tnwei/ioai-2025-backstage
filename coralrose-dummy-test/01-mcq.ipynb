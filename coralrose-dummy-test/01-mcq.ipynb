{
 "cells": [
  {
   "cell_type": "markdown",
   "id": "08e5f891-b63a-4776-9f41-3ec76a0c8e38",
   "metadata": {},
   "source": [
    "# Section 1 - Multiple Choice"
   ]
  },
  {
   "cell_type": "code",
   "execution_count": 3,
   "id": "162daa26-ccf7-47db-926f-ff13b2acc16a",
   "metadata": {
    "tags": []
   },
   "outputs": [],
   "source": [
    "auth_token = \"289968d2-7993-439d-baf6-8a7a42a911dc\""
   ]
  },
  {
   "cell_type": "markdown",
   "id": "ff0581d8-29f8-476f-9a55-673c3c35a15c",
   "metadata": {},
   "source": [
    "## Question 1"
   ]
  },
  {
   "cell_type": "markdown",
   "id": "8b7117f2-d735-4fc0-ad7e-d07dbc5c4193",
   "metadata": {},
   "source": [
    "Select A as your answer."
   ]
  },
  {
   "cell_type": "code",
   "execution_count": 4,
   "id": "f36a50bf-24ef-4d7f-954e-367369d4a742",
   "metadata": {
    "tags": []
   },
   "outputs": [],
   "source": [
    "# YOUR ANSWER HERE\n",
    "ans1 = \"A\""
   ]
  },
  {
   "cell_type": "markdown",
   "id": "c3154e21-a94e-4805-9cd3-a72ae11f6234",
   "metadata": {},
   "source": [
    "## Question 2"
   ]
  },
  {
   "cell_type": "markdown",
   "id": "e4213ed9-155f-4ecb-b05a-3eb17e46d17c",
   "metadata": {},
   "source": [
    "Select B as your answer."
   ]
  },
  {
   "cell_type": "code",
   "execution_count": 5,
   "id": "71583bcf-ce39-4621-b899-8e317b1d7c02",
   "metadata": {
    "tags": []
   },
   "outputs": [],
   "source": [
    "# YOUR ANSWER HERE\n",
    "ans2 = \"B\""
   ]
  },
  {
   "cell_type": "markdown",
   "id": "ae8eadbb-5f3f-422a-aa9f-18c1c374d159",
   "metadata": {},
   "source": [
    "## Submission"
   ]
  },
  {
   "cell_type": "code",
   "execution_count": 11,
   "id": "03050362-dd2d-4c45-81a7-f08eeb52ba00",
   "metadata": {
    "tags": []
   },
   "outputs": [],
   "source": [
    "from datetime import datetime\n",
    "\n",
    "import requests"
   ]
  },
  {
   "cell_type": "code",
   "execution_count": 12,
   "id": "35c9b33b-a25e-46ba-bc03-f1d692ea4eec",
   "metadata": {
    "tags": []
   },
   "outputs": [],
   "source": [
    "url = \"http://localhost:8000/api/dummy/01-mcq\""
   ]
  },
  {
   "cell_type": "code",
   "execution_count": 19,
   "id": "fabb9ccc-b591-4c47-b2c1-7a3123c52adf",
   "metadata": {
    "tags": []
   },
   "outputs": [],
   "source": [
    "def post_answer(data):\n",
    "    response = requests.post(url=url, json=data, headers={\"X-API-Key\": auth_token})\n",
    "    if response.status_code == 200:\n",
    "        return response.json()\n",
    "    else:\n",
    "        return f\"Failed to submit, status code is {response.status_code}\""
   ]
  },
  {
   "cell_type": "code",
   "execution_count": 21,
   "id": "228d6422-11c8-48b8-bc47-46457d7a6f59",
   "metadata": {
    "tags": []
   },
   "outputs": [
    {
     "data": {
      "text/plain": [
       "{'status': 'SUCCESS',\n",
       " 'message': 'Answer submitted successfully on 2024-12-23 07:56:16.087036+00:00'}"
      ]
     },
     "execution_count": 21,
     "metadata": {},
     "output_type": "execute_result"
    }
   ],
   "source": [
    "post_answer({\"solution\": {\"ans1\": ans1, \"ans2\": ans2}})"
   ]
  },
  {
   "cell_type": "code",
   "execution_count": null,
   "id": "b1c1ae95-b8e6-4f44-9e59-b1e6a418f392",
   "metadata": {},
   "outputs": [],
   "source": []
  }
 ],
 "metadata": {
  "kernelspec": {
   "display_name": "Python [conda env:ml]",
   "language": "python",
   "name": "conda-env-ml-py"
  },
  "language_info": {
   "codemirror_mode": {
    "name": "ipython",
    "version": 3
   },
   "file_extension": ".py",
   "mimetype": "text/x-python",
   "name": "python",
   "nbconvert_exporter": "python",
   "pygments_lexer": "ipython3",
   "version": "3.12.3"
  }
 },
 "nbformat": 4,
 "nbformat_minor": 5
}
