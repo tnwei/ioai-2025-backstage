{
 "cells": [
  {
   "cell_type": "markdown",
   "id": "0b43dbc7-4bbc-43b8-b655-8cee034ace54",
   "metadata": {},
   "source": [
    "# Section 2 - Text Answer"
   ]
  },
  {
   "cell_type": "code",
   "execution_count": 4,
   "id": "eda85209-5b78-48ae-9983-3912dd342bec",
   "metadata": {
    "tags": []
   },
   "outputs": [],
   "source": [
    "auth_token = \"YOUR_TOKEN_HERE\""
   ]
  },
  {
   "cell_type": "markdown",
   "id": "f8a8afec-9bab-488f-8b0c-0c272755d62d",
   "metadata": {},
   "source": [
    "## Setup (don't touch anything here!)"
   ]
  },
  {
   "cell_type": "code",
   "execution_count": 7,
   "id": "583f3687-9248-4680-93fe-4d5573cb107f",
   "metadata": {
    "tags": []
   },
   "outputs": [],
   "source": [
    "url = \"http://localhost:8000/api/dummy/02-text-answer\""
   ]
  },
  {
   "cell_type": "code",
   "execution_count": 9,
   "id": "a7fcd94e-b260-4531-8c23-1889c5c81185",
   "metadata": {
    "tags": []
   },
   "outputs": [],
   "source": [
    "from datetime import datetime\n",
    "import requests\n",
    "\n",
    "def post_answer(data):\n",
    "    response = requests.post(url=url, json=data, headers={\"X-API-Key\": auth_token})\n",
    "    if response.status_code == 200:\n",
    "        return response.json()\n",
    "    else:\n",
    "        print(f\"Failed to submit, HTTP status code is {response.status_code}\")\n",
    "        return response.json()"
   ]
  },
  {
   "cell_type": "markdown",
   "id": "a57d09cf-c00e-4dae-859f-aae40baf7e1c",
   "metadata": {},
   "source": [
    "## Question"
   ]
  },
  {
   "cell_type": "markdown",
   "id": "186ff130-69b5-43cd-a294-ebffec287ae1",
   "metadata": {},
   "source": [
    "Send a string of text that has exactly length 10 characters to score."
   ]
  },
  {
   "cell_type": "code",
   "execution_count": 5,
   "id": "0d9fbf92-8a79-4658-95ea-ddbbcefe3941",
   "metadata": {
    "tags": []
   },
   "outputs": [],
   "source": [
    "# YOUR ANSWER HERE\n",
    "ans = \"0000000000\""
   ]
  },
  {
   "cell_type": "markdown",
   "id": "17d18a17-099d-4151-988b-09644c53a4b1",
   "metadata": {},
   "source": [
    "## Submission"
   ]
  },
  {
   "cell_type": "code",
   "execution_count": 12,
   "id": "e8fc05b6-0c58-48be-837e-1663bdf69a19",
   "metadata": {
    "tags": []
   },
   "outputs": [
    {
     "data": {
      "text/plain": [
       "{'status': 'SUCCESS',\n",
       " 'message': 'Answer for challenge 02-text-answer submitted successfully on 2024-12-23 07:59:25.779797+00:00'}"
      ]
     },
     "execution_count": 12,
     "metadata": {},
     "output_type": "execute_result"
    }
   ],
   "source": [
    "post_answer({\"solution\": {\"ans\": ans }})"
   ]
  }
 ],
 "metadata": {
  "kernelspec": {
   "display_name": "Python [conda env:ml]",
   "language": "python",
   "name": "conda-env-ml-py"
  },
  "language_info": {
   "codemirror_mode": {
    "name": "ipython",
    "version": 3
   },
   "file_extension": ".py",
   "mimetype": "text/x-python",
   "name": "python",
   "nbconvert_exporter": "python",
   "pygments_lexer": "ipython3",
   "version": "3.12.3"
  }
 },
 "nbformat": 4,
 "nbformat_minor": 5
}
