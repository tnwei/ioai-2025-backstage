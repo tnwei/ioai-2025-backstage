{
 "cells": [
  {
   "cell_type": "markdown",
   "id": "5b987ea6-4212-4293-9003-dca09280f103",
   "metadata": {},
   "source": [
    "# Section 3 - Float Answer"
   ]
  },
  {
   "cell_type": "code",
   "execution_count": 2,
   "id": "667b97a4-419d-4f65-be0e-d49f9c82850e",
   "metadata": {
    "tags": []
   },
   "outputs": [],
   "source": [
    "auth_token = \"REDACTED\""
   ]
  },
  {
   "cell_type": "markdown",
   "id": "288b2eb7-f21f-4290-8493-03f5d4389e00",
   "metadata": {},
   "source": [
    "## Question"
   ]
  },
  {
   "cell_type": "markdown",
   "id": "b3a4cb56-bee6-4b17-bdc1-4173b0b56b46",
   "metadata": {},
   "source": [
    "Send a float value between 0 and 1 to score."
   ]
  },
  {
   "cell_type": "code",
   "execution_count": 3,
   "id": "3bda3ebe-0c12-48f8-8a46-68131f862be8",
   "metadata": {
    "tags": []
   },
   "outputs": [],
   "source": [
    "# YOUR ANSWER HERE\n",
    "ans = 0.5"
   ]
  },
  {
   "cell_type": "markdown",
   "id": "77ad78c7-024e-4898-80ba-cd4b435e3677",
   "metadata": {},
   "source": [
    "## Submission"
   ]
  },
  {
   "cell_type": "code",
   "execution_count": 7,
   "id": "b99f0712-b88a-4abe-bfdf-2c54a2b3ba10",
   "metadata": {
    "tags": []
   },
   "outputs": [],
   "source": [
    "url = \"http://localhost:8000/api/dummy/03-float-answer\""
   ]
  },
  {
   "cell_type": "code",
   "execution_count": 8,
   "id": "b2e575bd-d08b-4f55-8221-984d267fc058",
   "metadata": {
    "tags": []
   },
   "outputs": [],
   "source": [
    "from datetime import datetime\n",
    "import requests\n",
    "\n",
    "def post_answer(data):\n",
    "    response = requests.post(url=url, json=data, headers={\"X-API-Key\": auth_token})\n",
    "    if response.status_code == 200:\n",
    "        return response.json()\n",
    "    else:\n",
    "        print(f\"Failed to submit, HTTP status code is {response.status_code}\")\n",
    "        return response.json()"
   ]
  },
  {
   "cell_type": "code",
   "execution_count": 9,
   "id": "206cfa63-3464-4051-8d1d-dbfc9a4289e9",
   "metadata": {
    "tags": []
   },
   "outputs": [
    {
     "data": {
      "text/plain": [
       "{'status': 'SUCCESS',\n",
       " 'message': 'Answer for challenge 03-float-answer submitted successfully on 2024-12-23 08:00:39.020821+00:00'}"
      ]
     },
     "execution_count": 9,
     "metadata": {},
     "output_type": "execute_result"
    }
   ],
   "source": [
    "post_answer({\"solution\": {\"ans\": ans }})"
   ]
  }
 ],
 "metadata": {
  "kernelspec": {
   "display_name": "Python [conda env:ml]",
   "language": "python",
   "name": "conda-env-ml-py"
  },
  "language_info": {
   "codemirror_mode": {
    "name": "ipython",
    "version": 3
   },
   "file_extension": ".py",
   "mimetype": "text/x-python",
   "name": "python",
   "nbconvert_exporter": "python",
   "pygments_lexer": "ipython3",
   "version": "3.12.3"
  }
 },
 "nbformat": 4,
 "nbformat_minor": 5
}
