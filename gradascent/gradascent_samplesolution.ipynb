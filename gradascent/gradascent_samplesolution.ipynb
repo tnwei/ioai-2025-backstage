{
 "cells": [
  {
   "cell_type": "markdown",
   "id": "29f7c81d-0ead-4678-88c0-21ad7e58bce8",
   "metadata": {},
   "source": [
    "# Intro to ANN\n",
    "1. You are provided with an encoded hash, **lfkmq]ofiegoU~eUCEKCw**, along with four different models and their associated output embedding spaces. \n",
    "2. Each model takes an input of size 26, the highest value of all represents the corresponding english alphabet according to alphabetic sequence. \n",
    "3. Your goal is to reverse engineer the 4 alphabets from the models and their embedding spaces, then use it as a key to XOR with the encoded hash and get the final flag.\n",
    "\n",
    "*Note: hash XOR _ _ _ _ = flag{fake_flag}"
   ]
  },
  {
   "cell_type": "code",
   "execution_count": null,
   "id": "68ec819b-bbf3-4816-939c-941a32f5c4c8",
   "metadata": {},
   "outputs": [],
   "source": [
    "#make sure pytorch version matches, and don't use gpu for seed to match\n",
    "# !pip install torch==2.3.0+cu121"
   ]
  },
  {
   "cell_type": "code",
   "execution_count": 1,
   "id": "21f6b76a-121e-4eb9-a9b2-5068b47473c6",
   "metadata": {
    "tags": []
   },
   "outputs": [],
   "source": [
    "import torch\n",
    "import torch.nn as nn\n",
    "import torch.nn.functional as F"
   ]
  },
  {
   "cell_type": "code",
   "execution_count": 7,
   "id": "af9c7864-7a0f-428a-bd7c-c52665a35ae8",
   "metadata": {
    "tags": []
   },
   "outputs": [],
   "source": [
    "from tqdm import tqdm"
   ]
  },
  {
   "cell_type": "code",
   "execution_count": 9,
   "id": "9b13aca7-4ab6-45be-94b2-f6f620b7891a",
   "metadata": {
    "tags": []
   },
   "outputs": [],
   "source": [
    "import matplotlib.pyplot as plt\n",
    "%matplotlib inline"
   ]
  },
  {
   "cell_type": "code",
   "execution_count": 2,
   "id": "6ec24d7a-0e42-4304-bc00-049047527db5",
   "metadata": {
    "tags": []
   },
   "outputs": [
    {
     "data": {
      "text/plain": [
       "<torch._C.Generator at 0x7f3cff39a530>"
      ]
     },
     "execution_count": 2,
     "metadata": {},
     "output_type": "execute_result"
    }
   ],
   "source": [
    "torch.manual_seed(42)"
   ]
  },
  {
   "cell_type": "code",
   "execution_count": 3,
   "id": "8dbc8443-354a-472c-97f8-34b59b43908b",
   "metadata": {
    "tags": []
   },
   "outputs": [],
   "source": [
    "out1, out2, out3, out4 = torch.load(\"outputs.pkl\")"
   ]
  },
  {
   "cell_type": "code",
   "execution_count": 11,
   "id": "13361967-57d4-402e-97f6-177608445d61",
   "metadata": {
    "tags": []
   },
   "outputs": [],
   "source": [
    "def plot_alphabet(ten):\n",
    "    chars = list(\"abcdefghijklmnopqrstuvwxyz\")\n",
    "    nums = range(26)\n",
    "    vals = ten.tolist()\n",
    "    \n",
    "    fig, ax = plt.subplots(figsize=(12, 3))\n",
    "    ax.bar(nums, vals)\n",
    "    ax.set_xticks(nums, labels=chars)\n",
    "    plt.show()"
   ]
  },
  {
   "cell_type": "markdown",
   "id": "910e706f-321f-48a9-9c1a-cfb57a739fb3",
   "metadata": {},
   "source": [
    "## ANN"
   ]
  },
  {
   "cell_type": "code",
   "execution_count": 4,
   "id": "9b1baef4-29ef-4c30-a3a7-a6ea09af46f3",
   "metadata": {
    "tags": []
   },
   "outputs": [],
   "source": [
    "class SimpleANN(nn.Module):\n",
    "    def __init__(self, input_size=26, hidden_size=64, output_size=50):\n",
    "        super(SimpleANN, self).__init__()\n",
    "        \n",
    "        # Define layers\n",
    "        self.fc1 = nn.Linear(input_size, hidden_size)  # Input to hidden layer\n",
    "        self.relu = nn.ReLU()                         # Activation function\n",
    "        self.fc2 = nn.Linear(hidden_size, output_size) # Hidden layer to output\n",
    "\n",
    "        # Initialize weights with a specific random seed\n",
    "        self._initialize_weights()\n",
    "\n",
    "    def _initialize_weights(self):\n",
    "        # Initialize weights with random values\n",
    "        nn.init.normal_(self.fc1.weight, mean=0.0, std=0.02)  # Normal distribution for fc1\n",
    "        nn.init.normal_(self.fc2.weight, mean=0.0, std=0.02)  # Normal distribution for fc2\n",
    "\n",
    "        # Initialize biases to zero (optional)\n",
    "        nn.init.constant_(self.fc1.bias, 0.0)\n",
    "        nn.init.constant_(self.fc2.bias, 0.0)\n",
    "\n",
    "    def forward(self, x):\n",
    "        # Forward pass\n",
    "        x = self.fc1(x)  # Input layer to hidden layer\n",
    "        x = self.relu(x) # Activation function\n",
    "        x = self.fc2(x)  # Hidden layer to output layer\n",
    "        return x"
   ]
  },
  {
   "cell_type": "code",
   "execution_count": 5,
   "id": "485fa331-74a9-46be-9fb1-53b37f8b4f4d",
   "metadata": {
    "tags": []
   },
   "outputs": [],
   "source": [
    "model = SimpleANN()\n",
    "model.eval();\n",
    "in_ten = nn.Parameter(data=torch.randn((26,), dtype=torch.float32))"
   ]
  },
  {
   "cell_type": "code",
   "execution_count": 6,
   "id": "22a5cca7-18a8-4411-b4c2-f1af9e214a3d",
   "metadata": {
    "tags": []
   },
   "outputs": [
    {
     "name": "stderr",
     "output_type": "stream",
     "text": [
      "/home/tnwei/miniconda3/envs/ioai/lib/python3.12/site-packages/tqdm/auto.py:21: TqdmWarning: IProgress not found. Please update jupyter and ipywidgets. See https://ipywidgets.readthedocs.io/en/stable/user_install.html\n",
      "  from .autonotebook import tqdm as notebook_tqdm\n"
     ]
    }
   ],
   "source": [
    "loss_fn = nn.MSELoss()\n",
    "optimizer = torch.optim.Adam(params=[in_ten], lr=3e-1)"
   ]
  },
  {
   "cell_type": "code",
   "execution_count": 8,
   "id": "c47728f5-c2b9-41f5-9282-9ec75cb2d0ae",
   "metadata": {
    "tags": []
   },
   "outputs": [
    {
     "name": "stderr",
     "output_type": "stream",
     "text": [
      "100%|███████████████████████████████████████████████████████████████████████████| 10000/10000 [00:06<00:00, 1574.74it/s]\n"
     ]
    }
   ],
   "source": [
    "metrics = []\n",
    "for i in tqdm(range(10_000)):\n",
    "    out = model(in_ten)\n",
    "    loss = loss_fn(out, out1)\n",
    "    loss.backward()\n",
    "    \n",
    "    metrics.append(loss.item())\n",
    "    \n",
    "    optimizer.step()\n",
    "    optimizer.zero_grad()"
   ]
  },
  {
   "cell_type": "code",
   "execution_count": 10,
   "id": "77afc702-f9a8-4905-80c6-2fbb3b00996e",
   "metadata": {
    "tags": []
   },
   "outputs": [
    {
     "data": {
      "image/png": "[encoded data removed]",
      "text/plain": [
       "<Figure size 600x300 with 1 Axes>"
      ]
     },
     "metadata": {},
     "output_type": "display_data"
    }
   ],
   "source": [
    "plt.figure(figsize=(6, 3))\n",
    "plt.plot(metrics)\n",
    "plt.title(\"Loss\")\n",
    "plt.xlabel(\"Epochs\")\n",
    "plt.show()"
   ]
  },
  {
   "cell_type": "code",
   "execution_count": 12,
   "id": "c68ca292-643e-41c1-9fcd-b483e7524237",
   "metadata": {
    "tags": []
   },
   "outputs": [
    {
     "data": {
      "image/png": "[encoded data removed]",
      "text/plain": [
       "<Figure size 1200x300 with 1 Axes>"
      ]
     },
     "metadata": {},
     "output_type": "display_data"
    }
   ],
   "source": [
    "plot_alphabet(in_ten)"
   ]
  },
  {
   "cell_type": "code",
   "execution_count": 17,
   "id": "b41d79cd-6b02-4a77-8547-830fd47c9125",
   "metadata": {
    "tags": []
   },
   "outputs": [
    {
     "data": {
      "image/png": "[encoded data removed]",
      "text/plain": [
       "<Figure size 1200x300 with 1 Axes>"
      ]
     },
     "metadata": {},
     "output_type": "display_data"
    }
   ],
   "source": [
    "plot_alphabet(F.softmax(in_ten, dim=0))"
   ]
  },
  {
   "cell_type": "code",
   "execution_count": 13,
   "id": "70e0c3ec-eaba-4204-b8b3-109510d8c5b7",
   "metadata": {
    "tags": []
   },
   "outputs": [
    {
     "name": "stdout",
     "output_type": "stream",
     "text": [
      "tensor(0.0021)\n"
     ]
    }
   ],
   "source": [
    "# Best optimized answer\n",
    "with torch.no_grad():\n",
    "    print(loss_fn(model(in_ten), out1))"
   ]
  },
  {
   "cell_type": "code",
   "execution_count": 14,
   "id": "9f201cf8-6c3e-4a87-bfef-dc4dd5dd105d",
   "metadata": {
    "tags": []
   },
   "outputs": [],
   "source": [
    "i_data = torch.zeros((26,), dtype=torch.float32)\n",
    "i_data[8] = 100 #correct alphabet index will be as large as possible, the rest 0"
   ]
  },
  {
   "cell_type": "code",
   "execution_count": 15,
   "id": "b1f6f116-1016-4103-bf7a-a5f77c7081d7",
   "metadata": {
    "tags": []
   },
   "outputs": [
    {
     "name": "stdout",
     "output_type": "stream",
     "text": [
      "tensor(0.)\n"
     ]
    }
   ],
   "source": [
    "# Actual answer\n",
    "with torch.no_grad():\n",
    "    print(loss_fn(model(i_data), out1))"
   ]
  },
  {
   "cell_type": "markdown",
   "id": "596de015-6c67-4f95-91d0-75db82e6df72",
   "metadata": {},
   "source": [
    "## second alphabet - RNN"
   ]
  },
  {
   "cell_type": "code",
   "execution_count": 20,
   "id": "e92cb335-0170-4441-a141-e311ea61172c",
   "metadata": {
    "tags": []
   },
   "outputs": [],
   "source": [
    "class SimpleRNN(nn.Module):\n",
    "    def __init__(self, input_size=26, hidden_size=64, output_size=50, num_layers=1):\n",
    "        super(SimpleRNN, self).__init__()\n",
    "        \n",
    "        # RNN Layer\n",
    "        self.rnn = nn.RNN(input_size, hidden_size, num_layers, batch_first=True)\n",
    "        \n",
    "        # Fully connected layer for the output\n",
    "        self.fc = nn.Linear(hidden_size, output_size)\n",
    "\n",
    "        # Initialize weights with a specific random seed\n",
    "        self._initialize_weights()\n",
    "\n",
    "    def _initialize_weights(self):\n",
    "        # Custom weight initialization for reproducibility\n",
    "        torch.manual_seed(42)\n",
    "\n",
    "        # Initialize RNN weights\n",
    "        for name, param in self.rnn.named_parameters():\n",
    "            if 'weight' in name:\n",
    "                nn.init.kaiming_normal_(param, mode='fan_out', nonlinearity='relu')\n",
    "            elif 'bias' in name:\n",
    "                nn.init.constant_(param, 0.0)\n",
    "\n",
    "        # Initialize fully connected layer weights\n",
    "        nn.init.xavier_uniform_(self.fc.weight)  # Xavier initialization for fc layer\n",
    "        nn.init.constant_(self.fc.bias, 0.0)     # Set biases to zero\n",
    "\n",
    "    def forward(self, x, hidden):\n",
    "        # Forward pass through RNN\n",
    "        out, hidden = self.rnn(x, hidden)  # RNN layer\n",
    "        out = self.fc(out[:, -1, :])       # Fully connected layer (take last time step's output)\n",
    "        return out, hidden"
   ]
  },
  {
   "cell_type": "code",
   "execution_count": 21,
   "id": "b9106c5a-5a66-427e-b772-4793a2dbee5f",
   "metadata": {
    "tags": []
   },
   "outputs": [],
   "source": [
    "hidden_size = 64  # Hidden state size\n",
    "batch_size = 1        # Batch size\n",
    "num_layers = 1        # Number of RNN layers\n",
    "hidden = torch.zeros(num_layers, batch_size, hidden_size)\n",
    "\n",
    "model = SimpleRNN()\n",
    "model.eval();\n",
    "\n",
    "in_ten = nn.Parameter(data=torch.randn((1, 1, 26,), dtype=torch.float32))"
   ]
  },
  {
   "cell_type": "code",
   "execution_count": 22,
   "id": "d30e7143-9f8f-4074-8235-ab0f68b35dfe",
   "metadata": {
    "tags": []
   },
   "outputs": [],
   "source": [
    "loss_fn = nn.MSELoss()\n",
    "optimizer = torch.optim.Adam(params=[in_ten], lr=3e-1)"
   ]
  },
  {
   "cell_type": "code",
   "execution_count": 23,
   "id": "c0f73c7e-6160-4c84-87aa-64bbf12b0a39",
   "metadata": {
    "tags": []
   },
   "outputs": [
    {
     "name": "stderr",
     "output_type": "stream",
     "text": [
      "100%|███████████████████████████████████████████████████████████████████████████| 10000/10000 [00:08<00:00, 1215.08it/s]\n"
     ]
    }
   ],
   "source": [
    "metrics = []\n",
    "for i in tqdm(range(10_000)):\n",
    "    out, _ = model(in_ten, hidden)\n",
    "    loss = loss_fn(out, out2)\n",
    "    loss.backward()\n",
    "    \n",
    "    metrics.append(loss.item())\n",
    "    \n",
    "    optimizer.step()\n",
    "    optimizer.zero_grad()"
   ]
  },
  {
   "cell_type": "code",
   "execution_count": 24,
   "id": "46103e13-4583-4b93-8122-9d3dfe28e684",
   "metadata": {
    "tags": []
   },
   "outputs": [
    {
     "data": {
      "image/png": "[encoded data removed]",
      "text/plain": [
       "<Figure size 600x300 with 1 Axes>"
      ]
     },
     "metadata": {},
     "output_type": "display_data"
    }
   ],
   "source": [
    "plt.figure(figsize=(6, 3))\n",
    "plt.plot(metrics)\n",
    "plt.title(\"Loss\")\n",
    "plt.xlabel(\"Epochs\")\n",
    "plt.show()"
   ]
  },
  {
   "cell_type": "code",
   "execution_count": 26,
   "id": "6ac03036-9fee-47c2-b2a6-b4c4a5b0e892",
   "metadata": {
    "tags": []
   },
   "outputs": [
    {
     "data": {
      "image/png": "[encoded data removed]",
      "text/plain": [
       "<Figure size 1200x300 with 1 Axes>"
      ]
     },
     "metadata": {},
     "output_type": "display_data"
    }
   ],
   "source": [
    "plot_alphabet(in_ten[0][0])"
   ]
  },
  {
   "cell_type": "code",
   "execution_count": 27,
   "id": "476920dc-1d2c-45da-97a2-c0c1e784dfca",
   "metadata": {
    "tags": []
   },
   "outputs": [
    {
     "data": {
      "image/png": "[encoded data removed]",
      "text/plain": [
       "<Figure size 1200x300 with 1 Axes>"
      ]
     },
     "metadata": {},
     "output_type": "display_data"
    }
   ],
   "source": [
    "plot_alphabet(F.softmax(in_ten[0][0], dim=0))"
   ]
  },
  {
   "cell_type": "markdown",
   "id": "2eba2888-7611-4a97-b161-f11d263ce8cb",
   "metadata": {},
   "source": [
    "## MLP"
   ]
  },
  {
   "cell_type": "code",
   "execution_count": 28,
   "id": "ac57b502-cbf3-4d9a-a73f-88de38c57c57",
   "metadata": {
    "tags": []
   },
   "outputs": [],
   "source": [
    "class SimpleMLP(nn.Module):\n",
    "    def __init__(self, input_size=26, hidden_size=64, output_size=50):\n",
    "        super(SimpleMLP, self).__init__()\n",
    "        \n",
    "        # Define layers\n",
    "        self.fc1 = nn.Linear(input_size, hidden_size)  # Input to hidden layer\n",
    "        self.fc2 = nn.Linear(hidden_size, hidden_size) # Hidden layer to hidden layer\n",
    "        self.fc3 = nn.Linear(hidden_size, output_size)  # Hidden layer to output layer\n",
    "        self.relu = nn.ReLU()  # Activation function\n",
    "        \n",
    "        # Initialize weights with a specific random seed\n",
    "        self._initialize_weights()\n",
    "\n",
    "    def _initialize_weights(self):\n",
    "        # Custom weight initialization for reproducibility\n",
    "        torch.manual_seed(42)  # Optional: redundant if already set globally\n",
    "\n",
    "        # Initialize fully connected layer weights with Xavier (Glorot) initialization\n",
    "        nn.init.xavier_uniform_(self.fc1.weight)\n",
    "        nn.init.xavier_uniform_(self.fc2.weight)\n",
    "        nn.init.xavier_uniform_(self.fc3.weight)\n",
    "        \n",
    "        # Initialize biases to zero for fc layers\n",
    "        nn.init.constant_(self.fc1.bias, 0.0)\n",
    "        nn.init.constant_(self.fc2.bias, 0.0)\n",
    "        nn.init.constant_(self.fc3.bias, 0.0)\n",
    "\n",
    "    def forward(self, x):\n",
    "        # Forward pass\n",
    "        x = self.fc1(x)        # Input layer to first hidden layer\n",
    "        x = self.relu(x)       # ReLU activation\n",
    "        x = self.fc2(x)        # First hidden layer to second hidden layer\n",
    "        x = self.relu(x)       # ReLU activation\n",
    "        x = self.fc3(x)        # Second hidden layer to output layer\n",
    "        return x"
   ]
  },
  {
   "cell_type": "code",
   "execution_count": 29,
   "id": "c8a15396-f8c3-4914-8a35-59088627c32a",
   "metadata": {
    "tags": []
   },
   "outputs": [],
   "source": [
    "model = SimpleMLP()\n",
    "model.eval();\n",
    "\n",
    "in_ten = nn.Parameter(data=torch.randn((26,), dtype=torch.float32))"
   ]
  },
  {
   "cell_type": "code",
   "execution_count": 30,
   "id": "a09f5360-e912-4807-93d6-ae3f86d47dd7",
   "metadata": {
    "tags": []
   },
   "outputs": [],
   "source": [
    "loss_fn = nn.MSELoss()\n",
    "optimizer = torch.optim.Adam(params=[in_ten], lr=3e-1)"
   ]
  },
  {
   "cell_type": "code",
   "execution_count": 33,
   "id": "c6fe2dd5-8c74-403c-9b11-afbb7b318178",
   "metadata": {
    "tags": []
   },
   "outputs": [
    {
     "name": "stderr",
     "output_type": "stream",
     "text": [
      "100%|███████████████████████████████████████████████████████████████████████████| 10000/10000 [00:07<00:00, 1360.43it/s]\n"
     ]
    }
   ],
   "source": [
    "metrics = []\n",
    "for i in tqdm(range(10_000)):\n",
    "    out = model(in_ten)\n",
    "    loss = loss_fn(out, out3)\n",
    "    loss.backward()\n",
    "    \n",
    "    metrics.append(loss.item())\n",
    "    \n",
    "    optimizer.step()\n",
    "    optimizer.zero_grad()"
   ]
  },
  {
   "cell_type": "code",
   "execution_count": 34,
   "id": "932876e1-e651-4b12-b978-db7e471e0917",
   "metadata": {
    "tags": []
   },
   "outputs": [
    {
     "data": {
      "image/png": "[encoded data removed]",
      "text/plain": [
       "<Figure size 600x300 with 1 Axes>"
      ]
     },
     "metadata": {},
     "output_type": "display_data"
    }
   ],
   "source": [
    "plt.figure(figsize=(6, 3))\n",
    "plt.plot(metrics)\n",
    "plt.title(\"Loss\")\n",
    "plt.xlabel(\"Epochs\")\n",
    "plt.show()"
   ]
  },
  {
   "cell_type": "code",
   "execution_count": 36,
   "id": "064bde38-4865-4abf-af93-b7beba9174e5",
   "metadata": {
    "tags": []
   },
   "outputs": [
    {
     "data": {
      "image/png": "[encoded data removed]",
      "text/plain": [
       "<Figure size 1200x300 with 1 Axes>"
      ]
     },
     "metadata": {},
     "output_type": "display_data"
    }
   ],
   "source": [
    "plot_alphabet(in_ten)"
   ]
  },
  {
   "cell_type": "code",
   "execution_count": 37,
   "id": "e5b49fa8-1290-4312-875f-bf431efc486a",
   "metadata": {
    "tags": []
   },
   "outputs": [
    {
     "data": {
      "image/png": "[encoded data removed]",
      "text/plain": [
       "<Figure size 1200x300 with 1 Axes>"
      ]
     },
     "metadata": {},
     "output_type": "display_data"
    }
   ],
   "source": [
    "plot_alphabet(F.softmax(in_ten, dim=0))"
   ]
  },
  {
   "cell_type": "markdown",
   "id": "7803ded5-5e53-4ea3-b19f-ad43443e0ffd",
   "metadata": {},
   "source": [
    "## fourth alphabet - KAN"
   ]
  },
  {
   "cell_type": "code",
   "execution_count": 39,
   "id": "140b9305-f0de-4e76-abbc-3a1b2cd7b448",
   "metadata": {
    "tags": []
   },
   "outputs": [],
   "source": [
    "class SimpleKAN(nn.Module):\n",
    "    def __init__(self, input_size=26, hidden_size=64, output_size=50):\n",
    "        super(SimpleKAN, self).__init__()\n",
    "        \n",
    "        # Define layers\n",
    "        self.fc1 = nn.Linear(input_size, hidden_size)  # Input to hidden layer\n",
    "        self.fc2 = nn.Linear(hidden_size, hidden_size) # Hidden layer to hidden layer\n",
    "        self.fc3 = nn.Linear(hidden_size, output_size)  # Hidden layer to output layer\n",
    "        self.relu = nn.ReLU()  # Activation function\n",
    "\n",
    "        # Attention mechanism parameters\n",
    "        self.attention = nn.Linear(hidden_size, hidden_size)  # Attention weights\n",
    "\n",
    "        # Initialize weights with a specific random seed\n",
    "        self._initialize_weights()\n",
    "\n",
    "    def _initialize_weights(self):\n",
    "        # Custom weight initialization for reproducibility\n",
    "        torch.manual_seed(42)  # Optional: redundant if already set globally\n",
    "\n",
    "        # Initialize fully connected layer weights with Xavier (Glorot) initialization\n",
    "        nn.init.xavier_uniform_(self.fc1.weight)\n",
    "        nn.init.xavier_uniform_(self.fc2.weight)\n",
    "        nn.init.xavier_uniform_(self.fc3.weight)\n",
    "        \n",
    "        # Initialize attention weights with Xavier initialization\n",
    "        nn.init.xavier_uniform_(self.attention.weight)\n",
    "        \n",
    "        # Initialize biases to zero for fc layers\n",
    "        nn.init.constant_(self.fc1.bias, 0.0)\n",
    "        nn.init.constant_(self.fc2.bias, 0.0)\n",
    "        nn.init.constant_(self.fc3.bias, 0.0)\n",
    "        nn.init.constant_(self.attention.bias, 0.0)\n",
    "\n",
    "    def forward(self, x):\n",
    "        # Forward pass\n",
    "        x = self.fc1(x)            # Input layer to first hidden layer\n",
    "        x = self.relu(x)           # ReLU activation\n",
    "        x = self.fc2(x)            # First hidden layer to second hidden layer\n",
    "        x = self.relu(x)           # ReLU activation\n",
    "\n",
    "        # Apply attention mechanism\n",
    "        attention_weights = self.attention(x)  # Attention mechanism\n",
    "        x = x * attention_weights  # Apply attention weights\n",
    "\n",
    "        x = self.fc3(x)            # Second hidden layer to output layer\n",
    "        return x"
   ]
  },
  {
   "cell_type": "code",
   "execution_count": 40,
   "id": "0a35290c-586f-446e-a805-b78b2a1e3f4d",
   "metadata": {
    "tags": []
   },
   "outputs": [],
   "source": [
    "model = SimpleKAN()\n",
    "model.eval();\n",
    "\n",
    "in_ten = nn.Parameter(data=torch.randn((26,), dtype=torch.float32))"
   ]
  },
  {
   "cell_type": "code",
   "execution_count": 41,
   "id": "2ce005d6-f6fe-43fe-83f6-3ff6fea621ea",
   "metadata": {
    "tags": []
   },
   "outputs": [],
   "source": [
    "loss_fn = nn.MSELoss()\n",
    "optimizer = torch.optim.Adam(params=[in_ten], lr=3e-1)"
   ]
  },
  {
   "cell_type": "code",
   "execution_count": 42,
   "id": "a221f9b3-7b67-43db-97cb-fb71f0a4a189",
   "metadata": {
    "tags": []
   },
   "outputs": [
    {
     "name": "stderr",
     "output_type": "stream",
     "text": [
      "100%|███████████████████████████████████████████████████████████████████████████| 10000/10000 [00:08<00:00, 1192.49it/s]\n"
     ]
    }
   ],
   "source": [
    "metrics = []\n",
    "for i in tqdm(range(10_000)):\n",
    "    out = model(in_ten)\n",
    "    loss = loss_fn(out, out4)\n",
    "    loss.backward()\n",
    "    \n",
    "    metrics.append(loss.item())\n",
    "    \n",
    "    optimizer.step()\n",
    "    optimizer.zero_grad()"
   ]
  },
  {
   "cell_type": "code",
   "execution_count": 43,
   "id": "bef016c0-aa62-4f52-b0e3-91d6c5078650",
   "metadata": {
    "tags": []
   },
   "outputs": [
    {
     "data": {
      "image/png": "[encoded data removed]",
      "text/plain": [
       "<Figure size 600x300 with 1 Axes>"
      ]
     },
     "metadata": {},
     "output_type": "display_data"
    }
   ],
   "source": [
    "plt.figure(figsize=(6, 3))\n",
    "plt.plot(metrics)\n",
    "plt.title(\"Loss\")\n",
    "plt.xlabel(\"Epochs\")\n",
    "plt.show()"
   ]
  },
  {
   "cell_type": "code",
   "execution_count": 44,
   "id": "1730804f-332b-4f9f-8b0b-3f5aa9c4a332",
   "metadata": {
    "tags": []
   },
   "outputs": [
    {
     "data": {
      "image/png": "[encoded data removed]",
      "text/plain": [
       "<Figure size 1200x300 with 1 Axes>"
      ]
     },
     "metadata": {},
     "output_type": "display_data"
    }
   ],
   "source": [
    "plot_alphabet(in_ten)"
   ]
  },
  {
   "cell_type": "code",
   "execution_count": 45,
   "id": "f66ce207-1c9a-477b-95fd-b6530965ae6b",
   "metadata": {
    "tags": []
   },
   "outputs": [
    {
     "data": {
      "image/png": "[encoded data removed]",
      "text/plain": [
       "<Figure size 1200x300 with 1 Axes>"
      ]
     },
     "metadata": {},
     "output_type": "display_data"
    }
   ],
   "source": [
    "plot_alphabet(F.softmax(in_ten, dim=0))"
   ]
  }
 ],
 "metadata": {
  "kernelspec": {
   "display_name": "Python [conda env:ioai]",
   "language": "python",
   "name": "conda-env-ioai-py"
  },
  "language_info": {
   "codemirror_mode": {
    "name": "ipython",
    "version": 3
   },
   "file_extension": ".py",
   "mimetype": "text/x-python",
   "name": "python",
   "nbconvert_exporter": "python",
   "pygments_lexer": "ipython3",
   "version": "3.12.3"
  }
 },
 "nbformat": 4,
 "nbformat_minor": 5
}
